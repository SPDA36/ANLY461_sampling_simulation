{
 "cells": [
  {
   "cell_type": "markdown",
   "id": "50201214",
   "metadata": {},
   "source": [
    "# Sampling Examples - ANLY461 Applied Analytics II\n",
    "* Brandon Johnson\n",
    "* The purpose of this notebook is to demonstrate how to simple random sample and stratified random sample"
   ]
  },
  {
   "cell_type": "markdown",
   "id": "9079ec5c",
   "metadata": {},
   "source": [
    "**Simple Random Sampling**"
   ]
  },
  {
   "cell_type": "code",
   "execution_count": 18,
   "id": "86dcf393",
   "metadata": {},
   "outputs": [],
   "source": [
    "import numpy as np\n",
    "from IPython.display import Math, display\n",
    "import sympy as sym"
   ]
  },
  {
   "cell_type": "code",
   "execution_count": 20,
   "id": "1847d109",
   "metadata": {},
   "outputs": [
    {
     "data": {
      "text/latex": [
       "$\\displaystyle \\text{X follows the Normal distribution with } \\mu = 2800 \\text{ and } \\sigma = 50$"
      ],
      "text/plain": [
       "<IPython.core.display.Math object>"
      ]
     },
     "metadata": {},
     "output_type": "display_data"
    },
    {
     "data": {
      "text/latex": [
       "$\\displaystyle \\text{25 samples drawn from X: } {\\left[\\begin{matrix}2823.47043794628\\\\2836.03034498207\\\\2823.47043794628\\\\2797.96516532095\\\\2684.42960559358\\\\2759.66225921539\\\\2862.39246673006\\\\2737.22653222047\\\\2718.64710019884\\\\2819.81905177844\\\\2868.46678551766\\\\2855.20641124361\\\\2799.93556285772\\\\2801.72368149648\\\\2764.73944236419\\\\2776.12479887321\\\\2827.12908920134\\\\2853.61663812863\\\\2842.23555357356\\\\2819.81905177844\\\\2868.31686522289\\\\2872.66506026307\\\\2819.81905177844\\\\2763.57739993837\\\\2810.74603667922\\end{matrix}\\right]}$"
      ],
      "text/plain": [
       "<IPython.core.display.Math object>"
      ]
     },
     "metadata": {},
     "output_type": "display_data"
    }
   ],
   "source": [
    "N = 100 \n",
    "# 100 POPULATION MEMBERS\n",
    "\n",
    "X = np.random.normal(loc=2800, scale=50, size=N) \n",
    "# X VARIABLE THAT FOLLOWS THE NORMAL DISTRIBUTION WITH A MEAN OF 2800 AND A SD OF 50 AND A POPULATION SIZE OF N\n",
    "display(Math('\\\\text{X follows the Normal distribution with } \\\\mu = 2800 \\\\text{ and } \\\\sigma = 50'))\n",
    "\n",
    "n = 25 \n",
    "# n NUMBER OF SAMPLES TO DRAW FROM THE POPULATION WITH REPLACEMENT\n",
    "\n",
    "srs_index = np.random.randint(low=0, high=N, size=n)\n",
    "# RANDOMLY SAMPLING FROM A DESCRETE UNIFORM DISTRIBUTION WITH VALUES FROM 0 TO 100.  \n",
    "# THESE VALUES WILL CREATE THE INDEXS TO SLICE THE POPULATION ARRAY\n",
    "\n",
    "sample = X[srs_index]\n",
    "\n",
    "display(Math(f'\\\\text{{{n} samples drawn from X: }} {{{sym.latex(sym.sympify(sample.reshape(-1,1)))}}}'))"
   ]
  },
  {
   "cell_type": "markdown",
   "id": "32c94a86",
   "metadata": {},
   "source": [
    "**Stratified Sampling**"
   ]
  },
  {
   "cell_type": "code",
   "execution_count": 27,
   "id": "786ab80b",
   "metadata": {},
   "outputs": [
    {
     "data": {
      "text/latex": [
       "$\\displaystyle \\text{Stratum X1 sample size of 10: } {\\left[\\begin{matrix}2829.56054218339\\\\2874.47100052169\\\\2814.76930320824\\\\2730.32678363001\\\\2828.73021117959\\\\2814.76930320824\\\\2735.10948406337\\\\2768.75925488614\\\\2814.76930320824\\\\2854.91654028987\\end{matrix}\\right]}$"
      ],
      "text/plain": [
       "<IPython.core.display.Math object>"
      ]
     },
     "metadata": {},
     "output_type": "display_data"
    },
    {
     "data": {
      "text/latex": [
       "$\\displaystyle \\text{Stratum X2 sample size of 4: } {\\left[\\begin{matrix}2852.87623739881\\\\2724.309719092\\\\2801.31524006607\\\\2826.16656805025\\end{matrix}\\right]}$"
      ],
      "text/plain": [
       "<IPython.core.display.Math object>"
      ]
     },
     "metadata": {},
     "output_type": "display_data"
    },
    {
     "data": {
      "text/latex": [
       "$\\displaystyle \\text{Stratum X3 sample size of 6: } {\\left[\\begin{matrix}2880.21058703284\\\\2765.88129309142\\\\2870.94454646081\\\\2783.85939172683\\\\2801.31524006607\\\\2819.95984409791\\end{matrix}\\right]}$"
      ],
      "text/plain": [
       "<IPython.core.display.Math object>"
      ]
     },
     "metadata": {},
     "output_type": "display_data"
    }
   ],
   "source": [
    "N1 = 100\n",
    "N2 = 35\n",
    "N3 = 55\n",
    "# THESE Ni VALUES WILL BE CONSIDERED THE POPULATION SIZES OF DIFFERENT STRATUMS\n",
    "\n",
    "X1 = np.random.normal(loc=2800,scale=50,size=N1)\n",
    "X2 = np.random.normal(loc=2700,scale=30,size=N2)\n",
    "X3 = np.random.normal(loc=2600,scale=25,size=N3)\n",
    "# THESE Xi VALUES ARE INDIVIDUAL STRATUM POPULATIONS THAT FOLLOW THE NORMAL DISTRIBUTION\n",
    "\n",
    "proportion_size = 0.1\n",
    "# THIS IS THE PROPORTION SIZE CHOOSEN TO SAMPLE FROM EACH STRATUM\n",
    "\n",
    "n1 = round(N1*proportion_size)\n",
    "n2 = round(N2*proportion_size)\n",
    "n3 = round(N3*proportion_size)\n",
    "# THESE ni ARE THE NUMBER OF SAMPLES FROM EACH STRATUM BASED ON THE PROPORTION SIZE CHOOSEN.  \n",
    "# ROUNDED TO NEAREST INTEGER VALUE\n",
    "\n",
    "X1_index = np.random.randint(low=0, high=N1 , size=n1)\n",
    "X2_index = np.random.randint(low=0, high=N2, size=n2)\n",
    "X3_index = np.random.randint(low=0, high=N3, size=n3)\n",
    "# THESE ARE INDEX SLICES THAT ARE RANDOMLY SELECTED INTEGERS THAT SIMULATE SIMPLE RANDOM SAMPLING\n",
    "# IT WILL BE USED TO SAMPLE FROM THE STRATUMS\n",
    "\n",
    "sample_X1 = X1[X1_index]\n",
    "sample_X2 = X1[X2_index]\n",
    "sample_X3 = X1[X3_index]\n",
    "# THESE ARE THE RANDOM SAMPLES TAKEN FROM THE STRATUMS\n",
    "\n",
    "display(Math(f'\\\\text{{Stratum X1 sample size of {n1}: }} {{{sym.latex(sym.sympify(sample_X1.reshape(-1,1)))}}}'))\n",
    "display(Math(f'\\\\text{{Stratum X2 sample size of {n2}: }} {{{sym.latex(sym.sympify(sample_X2.reshape(-1,1)))}}}'))\n",
    "display(Math(f'\\\\text{{Stratum X3 sample size of {n3}: }} {{{sym.latex(sym.sympify(sample_X3.reshape(-1,1)))}}}'))"
   ]
  },
  {
   "cell_type": "code",
   "execution_count": null,
   "id": "4a57c757",
   "metadata": {},
   "outputs": [],
   "source": []
  }
 ],
 "metadata": {
  "kernelspec": {
   "display_name": "Python 3 (ipykernel)",
   "language": "python",
   "name": "python3"
  },
  "language_info": {
   "codemirror_mode": {
    "name": "ipython",
    "version": 3
   },
   "file_extension": ".py",
   "mimetype": "text/x-python",
   "name": "python",
   "nbconvert_exporter": "python",
   "pygments_lexer": "ipython3",
   "version": "3.9.12"
  }
 },
 "nbformat": 4,
 "nbformat_minor": 5
}
